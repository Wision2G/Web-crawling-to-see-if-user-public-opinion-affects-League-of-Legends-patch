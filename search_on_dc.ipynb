{
 "cells": [
  {
   "cell_type": "code",
   "execution_count": 2,
   "id": "57857836-bc08-44da-97d2-32a06b02c8c5",
   "metadata": {},
   "outputs": [
    {
     "data": {
      "text/plain": [
       "163"
      ]
     },
     "execution_count": 2,
     "metadata": {},
     "output_type": "execute_result"
    }
   ],
   "source": [
    "# 챔피언 리스트를 웹사이트로부터 가져온다.\n",
    "del_list = [\"아우렐리온 솔\", \"미스 포츈\",\"리 신\", \"마스터 이\", \"문도 박사\", \"다리우스\", \"리산드라\", \"말자하\",\n",
    "            \"신 짜오\",\"자르반 4세\", \"트위스티드 페이트\",\"누누와 윌럼프\",\"아트록스\",\"오리아나\", \"말파이트\", \"모데카이저\",\n",
    "           \"블라디미르\", \"세주아니\", \"아펠리오스\", \"알리스타\", \"이렐리아\", \"이즈리얼\",\"카시오페아\", \"카타리나\",\n",
    "           \"칼리스타\", \"킨드레드\", \"트린다미어\", \"피들스틱\", \"하이머딩거\", \"갱플랭크\", \"탐 켄치\"]\n",
    "# del_list는 실제 풀 네임으로 부르지 않는 경우나 줄임말로도 포함이 가능한 경우를 고려해 삭제하려는 리스트\n",
    "another = [\"갱플\", \"그브\", \"누누\", \"다리\", \"리산\", '마이', '말자', '말파', '모데', '문도', '미포', '볼베', \n",
    "'블라디', '블츠', '세주', '짜오', '아우솔', '아펠', '알리', '오리', '이렐', '이즈', '자르반', '카시', \n",
    "'카타', '칼리', '케틀', '킨드', '트타', '트린', '트페', '빵테', '피들', '딩거', '리신', '아트', '켄치']\n",
    "# another_list는 챔피언 명을 줄여서 부르는 경우를 정리하여 추가하려는 리스트\n",
    "html = requests.get(\"https://lol.inven.co.kr/dataninfo/champion/\").text\n",
    "soup = BeautifulSoup(html,\"lxml\")\n",
    "res = soup.find_all(\"div\" , {\"class\":\"champName\"})\n",
    "# python 에서 url 처리 시 한글이 포함된 경우 깨짐현상이 발생하는걸 방지하기 위해 quote 처리\n",
    "champions_quote = []\n",
    "champions = []\n",
    "\n",
    "\n",
    "for one in res:\n",
    "    champions.append(one.get_text())\n",
    "for i in del_list:\n",
    "    champions.remove(i)\n",
    "for a in another:\n",
    "    champions.append(a)\n",
    "for one in res:\n",
    "    champions_quote.append(quote(one.get_text()))\n",
    "for k in del_list:\n",
    "    champions_quote.remove(quote(k))\n",
    "for a in another:\n",
    "    champions_quote.append(quote(a))\n",
    "len(champions_quote)"
   ]
  },
  {
   "cell_type": "markdown",
   "id": "75d32e0e-0d92-46b5-b3c8-a466949e2ea3",
   "metadata": {},
   "source": [
    "### 가져온 챔피언 리스트를 이용하여 웹크롤링"
   ]
  },
  {
   "cell_type": "code",
   "execution_count": 4,
   "id": "d73ddb9d-a107-4364-bf87-0c361fe544dd",
   "metadata": {
    "scrolled": true
   },
   "outputs": [
    {
     "name": "stdout",
     "output_type": "stream",
     "text": [
      "한 챔프 끝\n",
      "한 챔프 끝\n",
      "한 챔프 끝\n",
      "한 챔프 끝\n",
      "한 챔프 끝\n",
      "한 챔프 끝\n",
      "한 챔프 끝\n",
      "한 챔프 끝\n",
      "한 챔프 끝\n",
      "한 챔프 끝\n",
      "한 챔프 끝\n",
      "한 챔프 끝\n",
      "한 챔프 끝\n",
      "한 챔프 끝\n",
      "한 챔프 끝\n",
      "한 챔프 끝\n",
      "한 챔프 끝\n",
      "한 챔프 끝\n",
      "한 챔프 끝\n",
      "한 챔프 끝\n",
      "한 챔프 끝\n",
      "한 챔프 끝\n",
      "한 챔프 끝\n",
      "한 챔프 끝\n",
      "한 챔프 끝\n",
      "한 챔프 끝\n",
      "한 챔프 끝\n",
      "한 챔프 끝\n",
      "한 챔프 끝\n",
      "한 챔프 끝\n",
      "한 챔프 끝\n",
      "한 챔프 끝\n",
      "한 챔프 끝\n",
      "한 챔프 끝\n",
      "한 챔프 끝\n",
      "한 챔프 끝\n",
      "한 챔프 끝\n",
      "한 챔프 끝\n",
      "한 챔프 끝\n",
      "한 챔프 끝\n",
      "한 챔프 끝\n"
     ]
    }
   ],
   "source": [
    "# 가져온 챔피언 리스트를 크롤링하고자 하는 웹 url에 대응시켜 반복한다.\n",
    "headers = {\n",
    "    \"User-Agent\" : \"Mozilla/5.0 (Windows NT 10.0; Win64; x64) AppleWebKit/537.36 (KHTML, like Gecko) Chrome/96.0.4664.110 Safari/537.36\"\n",
    "    }\n",
    "result= []\n",
    "# for champname_quote in ['%EA%B0%80%EB%A0%8C']: (테스트용 라인)\n",
    "for champname_quote,champ in zip(champions_quote[:41], champions[:41]):\n",
    "# 전체 리스트를 서치할 경우 트래픽에 의한 연결 해제 문제가 발생, 리스트를 나눠서 검색\n",
    "    url = f\"https://gall.dcinside.com/board/lists?id=leagueoflegends4&s_type=search_subject&s_keyword={champname_quote}\"\n",
    "    url_list= []\n",
    "\n",
    "    for _ in range(200):\n",
    "\n",
    "    #     print(\"url:\", url)\n",
    "        html = requests.get(url, headers=headers)\n",
    "        soup = BeautifulSoup(html.text, \"html.parser\")\n",
    "        div_res = soup.find(\"div\", {\"class\":\"bottom_paging_box\"})\n",
    "\n",
    "        a_next_res = div_res.find(\"a\", {\"class\":\"search_next\"})\n",
    "        em_res = div_res.find(\"em\")\n",
    "\n",
    "#             if a_next_res == None:\n",
    "#                 print(unquote(champname_quote), \"찾기 끝\")\n",
    "#                 break\n",
    "\n",
    "        cur_page = \"0\"\n",
    "        if em_res != None:\n",
    "            cur_page = em_res.get_text()\n",
    "    #         print(\"page\",cur_page)\n",
    "\n",
    "        fix_url = \"https://gall.dcinside.com\"\n",
    "        if cur_page ==\"1\":\n",
    "            a_prev_res = div_res.find(\"a\", {\"class\":\"search_prev\"})\n",
    "            a_res = div_res.find_all(\"a\")\n",
    "            if a_prev_res: a_res.remove(a_prev_res)\n",
    "\n",
    "            for one in a_res:\n",
    "                url_list.append(fix_url+one[\"href\"])\n",
    "        elif cur_page ==\"0\":\n",
    "    #         print(\"이 구간에 조회 내용 없음\")\n",
    "            url_list.append(fix_url+a_next_res[\"href\"])\n",
    "\n",
    "        url = url_list.pop(0)\n",
    "\n",
    "        table = soup.find(\"tbody\")\n",
    "        trs = table.find_all(\"tr\")\n",
    "        for sd in trs:\n",
    "            tds = sd.find_all(\"td\")   \n",
    "            title = tds[1].get_text()\n",
    "            title = title.replace(\"\\n\",\"\")\n",
    "#             스크래핑 당시 게시판에 랜덤하게 발생하는 광고글을 제외하기 위한 구문\n",
    "            if title == \"[와쿠] 게임 추천하고 케이크 받자!\" or title == \"알고 보니 재력가 집안 스타는?\" or title == \"4차산업혁명, 나도인재가 될수있다! 3D프린터/언리얼게임 무료교육 진행\":\n",
    "                continue\n",
    "            date  = tds[3].get_text()\n",
    "            if len(date) == 5 and date.find(\".\")>=0:\n",
    "                date = date.replace(\".\", \"\")\n",
    "                date = \"21\"+date\n",
    "            elif len(date) == 8 and date.find(\".\")>=0:\n",
    "                date = date.replace(\".\", \"\")\n",
    "            elif len(date) == 5 and date.find(\":\")>=0:\n",
    "                date = \"211231\" # 스크래핑한 날짜\n",
    "\n",
    "#             print(champ, \"/\", title, \"/\", date)\n",
    "            result.append([champ]+[title]+[date])\n",
    "        time.sleep(0.1)\n",
    "    print(\"한 챔프 끝\")\n",
    "\n",
    "col_name = [\"챔피언\",\"제목\",\"날짜\"]\n",
    "df_dc = pd.DataFrame(result, columns = col_name)\n",
    "df_dc.to_csv(\"dc_data41.csv\", encoding=\"utf-8\")"
   ]
  },
  {
   "cell_type": "code",
   "execution_count": 5,
   "id": "4f193d07-1d4c-41ba-8d74-de0727fc999e",
   "metadata": {},
   "outputs": [
    {
     "name": "stdout",
     "output_type": "stream",
     "text": [
      "<class 'pandas.core.frame.DataFrame'>\n",
      "RangeIndex: 43587 entries, 0 to 43586\n",
      "Data columns (total 3 columns):\n",
      " #   Column  Non-Null Count  Dtype \n",
      "---  ------  --------------  ----- \n",
      " 0   챔피언     43587 non-null  object\n",
      " 1   제목      43587 non-null  object\n",
      " 2   날짜      43587 non-null  object\n",
      "dtypes: object(3)\n",
      "memory usage: 1021.7+ KB\n"
     ]
    }
   ],
   "source": [
    "df_dc.info()"
   ]
  }
 ],
 "metadata": {
  "kernelspec": {
   "display_name": "Python 3 (ipykernel)",
   "language": "python",
   "name": "python3"
  },
  "language_info": {
   "codemirror_mode": {
    "name": "ipython",
    "version": 3
   },
   "file_extension": ".py",
   "mimetype": "text/x-python",
   "name": "python",
   "nbconvert_exporter": "python",
   "pygments_lexer": "ipython3",
   "version": "3.9.7"
  }
 },
 "nbformat": 4,
 "nbformat_minor": 5
}
