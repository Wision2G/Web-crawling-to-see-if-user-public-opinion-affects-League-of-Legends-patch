{
 "cells": [
  {
   "cell_type": "code",
   "execution_count": 1,
   "id": "0c30b834-dd64-4ca0-9c78-54ec72798906",
   "metadata": {},
   "outputs": [],
   "source": [
    "from bs4 import BeautifulSoup\n",
    "from selenium import webdriver\n",
    "import requests\n",
    "import pandas as pd\n",
    "from urllib.parse import quote, unquote\n",
    "import time"
   ]
  },
  {
   "cell_type": "markdown",
   "id": "839769d0-06f8-462f-9886-1238259a2a65",
   "metadata": {},
   "source": [
    "### 챔피언 리스트 가져오기"
   ]
  },
  {
   "cell_type": "code",
   "execution_count": 2,
   "id": "6b4426b6-42c8-40cc-adb8-3cca4e37a13c",
   "metadata": {},
   "outputs": [
    {
     "data": {
      "text/plain": [
       "163"
      ]
     },
     "execution_count": 2,
     "metadata": {},
     "output_type": "execute_result"
    }
   ],
   "source": [
    "# 챔피언 리스트를 웹사이트로부터 가져온다.\n",
    "del_list = [\"아우렐리온 솔\", \"미스 포츈\",\"리 신\", \"마스터 이\", \"문도 박사\", \"다리우스\", \"리산드라\", \"말자하\",\n",
    "            \"신 짜오\",\"자르반 4세\", \"트위스티드 페이트\",\"누누와 윌럼프\",\"아트록스\",\"오리아나\", \"말파이트\", \"모데카이저\",\n",
    "           \"블라디미르\", \"세주아니\", \"아펠리오스\", \"알리스타\", \"이렐리아\", \"이즈리얼\",\"카시오페아\", \"카타리나\",\n",
    "           \"칼리스타\", \"킨드레드\", \"트린다미어\", \"피들스틱\", \"하이머딩거\", \"갱플랭크\", \"탐 켄치\"]\n",
    "# del_list는 실제 풀 네임으로 부르지 않는 경우나 줄임말로도 포함이 가능한 경우를 고려해 삭제하려는 리스트\n",
    "another = [\"갱플\", \"그브\", \"누누\", \"다리\", \"리산\", '마이', '말자', '말파', '모데', '문도', '미포', '볼베', \n",
    "'블라디', '블츠', '세주', '짜오', '아우솔', '아펠', '알리', '오리', '이렐', '이즈', '자르반', '카시', \n",
    "'카타', '칼리', '케틀', '킨드', '트타', '트린', '트페', '빵테', '피들', '딩거', '리신', '아트', '켄치']\n",
    "# another_list는 챔피언 명을 줄여서 부르는 경우를 정리하여 추가하려는 리스트\n",
    "html = requests.get(\"https://lol.inven.co.kr/dataninfo/champion/\").text\n",
    "soup = BeautifulSoup(html,\"lxml\")\n",
    "res = soup.find_all(\"div\" , {\"class\":\"champName\"})\n",
    "# python 에서 url 처리 시 한글이 포함된 경우 깨짐현상이 발생하는걸 방지하기 위해 quote 처리\n",
    "champions_quote = []\n",
    "champions = []\n",
    "\n",
    "\n",
    "for one in res:\n",
    "    champions.append(one.get_text())\n",
    "for i in del_list:\n",
    "    champions.remove(i)\n",
    "for a in another:\n",
    "    champions.append(a)\n",
    "for one in res:\n",
    "    champions_quote.append(quote(one.get_text()))\n",
    "for k in del_list:\n",
    "    champions_quote.remove(quote(k))\n",
    "for a in another:\n",
    "    champions_quote.append(quote(a))\n",
    "len(champions_quote)"
   ]
  }
 ],
 "metadata": {
  "kernelspec": {
   "display_name": "Python 3 (ipykernel)",
   "language": "python",
   "name": "python3"
  },
  "language_info": {
   "codemirror_mode": {
    "name": "ipython",
    "version": 3
   },
   "file_extension": ".py",
   "mimetype": "text/x-python",
   "name": "python",
   "nbconvert_exporter": "python",
   "pygments_lexer": "ipython3",
   "version": "3.9.7"
  }
 },
 "nbformat": 4,
 "nbformat_minor": 5
}
